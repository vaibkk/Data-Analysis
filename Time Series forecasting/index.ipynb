{
 "cells": [
  {
   "cell_type": "markdown",
   "metadata": {},
   "source": [
    "<center><H1>Code Snippet and Output</H3>"
   ]
  },
  {
   "cell_type": "markdown",
   "metadata": {},
   "source": [
    "<h3>Importing all the modules and libraries required for the Project.<br><br>\n",
    "There are libraries for<br> <br>\n",
    "1. Creating Web Dash app<br><br>\n",
    "2. Importing dataframe  <br><br>\n",
    "3. Statistical Analysis<br><br>\n",
    "4. Data Visualization<br><br>\n",
    "5. Data Processing<br><br>"
   ]
  },
  {
   "cell_type": "code",
   "execution_count": 1,
   "metadata": {},
   "outputs": [
    {
     "name": "stderr",
     "output_type": "stream",
     "text": [
      "C:\\Users\\vaibh\\AppData\\Local\\Temp\\ipykernel_1652\\3557436012.py:3: UserWarning: \n",
      "The dash_core_components package is deprecated. Please replace\n",
      "`import dash_core_components as dcc` with `from dash import dcc`\n",
      "  import dash_core_components as dcc\n",
      "C:\\Users\\vaibh\\AppData\\Local\\Temp\\ipykernel_1652\\3557436012.py:4: UserWarning: \n",
      "The dash_html_components package is deprecated. Please replace\n",
      "`import dash_html_components as html` with `from dash import html`\n",
      "  import dash_html_components as html\n"
     ]
    }
   ],
   "source": [
    "#For Web APP\n",
    "import dash\n",
    "import dash_core_components as dcc\n",
    "import dash_html_components as html\n",
    "from dash.dependencies import Input, Output\n",
    "import plotly.express as px\n",
    "import plotly.graph_objs as go\n",
    "\n",
    "#For Dataframe\n",
    "import pandas as pd\n",
    "\n",
    "#For Statistics Related Operations\n",
    "from statsmodels.tsa.seasonal import STL\n",
    "from statsmodels.tsa.statespace.sarimax import SARIMAX\n",
    "import statsmodels.api as sm\n",
    "\n",
    "import itertools\n",
    "import numpy as np\n",
    "\n",
    "#For Warnings\n",
    "import warnings\n",
    "warnings.filterwarnings(\"ignore\")\n"
   ]
  },
  {
   "cell_type": "markdown",
   "metadata": {},
   "source": [
    "<H3>Initializing the Web App<br></H3>"
   ]
  },
  {
   "cell_type": "code",
   "execution_count": 2,
   "metadata": {},
   "outputs": [],
   "source": [
    "app = dash.Dash()"
   ]
  },
  {
   "cell_type": "markdown",
   "metadata": {},
   "source": [
    "<H3>There are three Datasets containing different informations.Datasets are imported with the help of pandas and  <br><br>\n",
    "are merged with the help of left join.So, it can be easy for visualization and Statistical Analysis.<br></H3>"
   ]
  },
  {
   "cell_type": "code",
   "execution_count": 3,
   "metadata": {},
   "outputs": [
    {
     "data": {
      "text/plain": [
       "143"
      ]
     },
     "execution_count": 3,
     "metadata": {},
     "output_type": "execute_result"
    }
   ],
   "source": [
    "#Main DataFrame\n",
    "train = pd.read_csv(r\"C:\\Users\\vaibh\\Machine Learning\\DataSets\\walmart-recruiting-store-sales-forecasting\\train.csv\")\n",
    "stores = pd.read_csv(r\"C:\\Users\\vaibh\\Machine Learning\\DataSets\\walmart-recruiting-store-sales-forecasting\\stores.csv\")\n",
    "stores = stores.merge(train,how='left')\n",
    "df = stores\n",
    "len(df.Date.unique())"
   ]
  },
  {
   "cell_type": "code",
   "execution_count": 4,
   "metadata": {},
   "outputs": [
    {
     "data": {
      "text/html": [
       "<div>\n",
       "<style scoped>\n",
       "    .dataframe tbody tr th:only-of-type {\n",
       "        vertical-align: middle;\n",
       "    }\n",
       "\n",
       "    .dataframe tbody tr th {\n",
       "        vertical-align: top;\n",
       "    }\n",
       "\n",
       "    .dataframe thead th {\n",
       "        text-align: right;\n",
       "    }\n",
       "</style>\n",
       "<table border=\"1\" class=\"dataframe\">\n",
       "  <thead>\n",
       "    <tr style=\"text-align: right;\">\n",
       "      <th></th>\n",
       "      <th>Store</th>\n",
       "      <th>Dept</th>\n",
       "      <th>Date</th>\n",
       "      <th>Weekly_Sales</th>\n",
       "      <th>IsHoliday</th>\n",
       "    </tr>\n",
       "  </thead>\n",
       "  <tbody>\n",
       "    <tr>\n",
       "      <th>0</th>\n",
       "      <td>1</td>\n",
       "      <td>1</td>\n",
       "      <td>2010-02-05</td>\n",
       "      <td>24924.50</td>\n",
       "      <td>False</td>\n",
       "    </tr>\n",
       "    <tr>\n",
       "      <th>1</th>\n",
       "      <td>1</td>\n",
       "      <td>1</td>\n",
       "      <td>2010-02-12</td>\n",
       "      <td>46039.49</td>\n",
       "      <td>True</td>\n",
       "    </tr>\n",
       "    <tr>\n",
       "      <th>2</th>\n",
       "      <td>1</td>\n",
       "      <td>1</td>\n",
       "      <td>2010-02-19</td>\n",
       "      <td>41595.55</td>\n",
       "      <td>False</td>\n",
       "    </tr>\n",
       "    <tr>\n",
       "      <th>3</th>\n",
       "      <td>1</td>\n",
       "      <td>1</td>\n",
       "      <td>2010-02-26</td>\n",
       "      <td>19403.54</td>\n",
       "      <td>False</td>\n",
       "    </tr>\n",
       "    <tr>\n",
       "      <th>4</th>\n",
       "      <td>1</td>\n",
       "      <td>1</td>\n",
       "      <td>2010-03-05</td>\n",
       "      <td>21827.90</td>\n",
       "      <td>False</td>\n",
       "    </tr>\n",
       "    <tr>\n",
       "      <th>...</th>\n",
       "      <td>...</td>\n",
       "      <td>...</td>\n",
       "      <td>...</td>\n",
       "      <td>...</td>\n",
       "      <td>...</td>\n",
       "    </tr>\n",
       "    <tr>\n",
       "      <th>421565</th>\n",
       "      <td>45</td>\n",
       "      <td>98</td>\n",
       "      <td>2012-09-28</td>\n",
       "      <td>508.37</td>\n",
       "      <td>False</td>\n",
       "    </tr>\n",
       "    <tr>\n",
       "      <th>421566</th>\n",
       "      <td>45</td>\n",
       "      <td>98</td>\n",
       "      <td>2012-10-05</td>\n",
       "      <td>628.10</td>\n",
       "      <td>False</td>\n",
       "    </tr>\n",
       "    <tr>\n",
       "      <th>421567</th>\n",
       "      <td>45</td>\n",
       "      <td>98</td>\n",
       "      <td>2012-10-12</td>\n",
       "      <td>1061.02</td>\n",
       "      <td>False</td>\n",
       "    </tr>\n",
       "    <tr>\n",
       "      <th>421568</th>\n",
       "      <td>45</td>\n",
       "      <td>98</td>\n",
       "      <td>2012-10-19</td>\n",
       "      <td>760.01</td>\n",
       "      <td>False</td>\n",
       "    </tr>\n",
       "    <tr>\n",
       "      <th>421569</th>\n",
       "      <td>45</td>\n",
       "      <td>98</td>\n",
       "      <td>2012-10-26</td>\n",
       "      <td>1076.80</td>\n",
       "      <td>False</td>\n",
       "    </tr>\n",
       "  </tbody>\n",
       "</table>\n",
       "<p>421570 rows × 5 columns</p>\n",
       "</div>"
      ],
      "text/plain": [
       "        Store  Dept        Date  Weekly_Sales  IsHoliday\n",
       "0           1     1  2010-02-05      24924.50      False\n",
       "1           1     1  2010-02-12      46039.49       True\n",
       "2           1     1  2010-02-19      41595.55      False\n",
       "3           1     1  2010-02-26      19403.54      False\n",
       "4           1     1  2010-03-05      21827.90      False\n",
       "...       ...   ...         ...           ...        ...\n",
       "421565     45    98  2012-09-28        508.37      False\n",
       "421566     45    98  2012-10-05        628.10      False\n",
       "421567     45    98  2012-10-12       1061.02      False\n",
       "421568     45    98  2012-10-19        760.01      False\n",
       "421569     45    98  2012-10-26       1076.80      False\n",
       "\n",
       "[421570 rows x 5 columns]"
      ]
     },
     "execution_count": 4,
     "metadata": {},
     "output_type": "execute_result"
    }
   ],
   "source": [
    "train"
   ]
  },
  {
   "cell_type": "code",
   "execution_count": 5,
   "metadata": {},
   "outputs": [
    {
     "name": "stdout",
     "output_type": "stream",
     "text": [
      "['2010-02-12' '2010-09-10' '2010-11-26' '2010-12-31' '2011-02-11'\n",
      " '2011-09-09' '2011-11-25' '2011-12-30' '2012-02-10' '2012-09-07']\n"
     ]
    }
   ],
   "source": [
    "print(stores[stores.IsHoliday==True].Date.unique())\n"
   ]
  },
  {
   "cell_type": "markdown",
   "metadata": {},
   "source": [
    "<H3>Data for Box Plot are selected and columns which are not required are dropped.So, it can be easy to <br><br>\n",
    "understand the data in highly effective manner and take decisions.</H3>"
   ]
  },
  {
   "cell_type": "code",
   "execution_count": 6,
   "metadata": {},
   "outputs": [],
   "source": [
    "#For Box Plot\n",
    "dfbox = df\n",
    "features = dfbox.columns"
   ]
  },
  {
   "cell_type": "markdown",
   "metadata": {},
   "source": [
    "<H3>All the columns which are not important for the SARIMA model are dropped and sorted on the basis of the Date.<br><br>\n",
    "All the Sales Data are evaluated by taking mean of Sales on weekly basis.<br><br>\n",
    "STL(Season-Trend) decomposition is used to decompose the Sales data into three components i.e. Trend, <br><br>\n",
    "Seasonal and Residual.<br><br>\n",
    "1. Trend Graph gives the overall idea about data, how it is being progressing over the time.<br><br>\n",
    "2. Seasonality Graph gives the idea about the data in certain period over the years.<br><br>\n",
    "3. Residual Graph gives information which is left after Trend and Seasonality graph.Thus, it is the noise in the <br><br>data.<br><br>"
   ]
  },
  {
   "cell_type": "code",
   "execution_count": 7,
   "metadata": {
    "scrolled": true
   },
   "outputs": [
    {
     "name": "stdout",
     "output_type": "stream",
     "text": [
      "<class 'pandas.core.series.Series'>\n"
     ]
    }
   ],
   "source": [
    "#For Decomposition AND Prediction Plot Data\n",
    "dfarima = train\n",
    "\n",
    "dfarima = dfarima.sort_values('Date')\n",
    "dfarima['Date'] = pd.to_datetime(dfarima['Date'], errors='coerce')\n",
    "\n",
    "dfarima = dfarima.set_index('Date')\n",
    "sales = dfarima['Weekly_Sales'].groupby(['Date']).mean()\n",
    "print(type(sales))\n",
    "salesarima = sales # For Prediction\n",
    "\n",
    "sales = sales.to_frame() # For Decomposition\n",
    "sales.reset_index(level=0, inplace=True)\n",
    "\n",
    "#For Decomposition\n",
    "salesdecompose = sales.set_index('Date')\n",
    "resultdecompose = STL(salesdecompose,robust = True).fit()\n"
   ]
  },
  {
   "cell_type": "markdown",
   "metadata": {},
   "source": [
    "<H3>Graph of the Observed Sales Data is plotted. Also the graph of  different components are plotted i.e.Trend,<br><br> Seasonal and Residual. \n",
    "After decomposing the data, graphs are developed with the same layout.<br><br>\n",
    "On X-axis, we have \"Date\"<br><br>\n",
    "On Y-axis, we have \"Values\"\n",
    "    \n",
    "These graphs help us to understand the data and to take further decisions in the process.\n"
   ]
  },
  {
   "cell_type": "code",
   "execution_count": 8,
   "metadata": {},
   "outputs": [],
   "source": [
    "#Graph For Decompostion\n",
    "#layout for the Graph\n",
    "layoutdecomposition=go.Layout(hovermode='x',spikedistance=1000,font_family='Sailec',\n",
    "    xaxis=dict(title=\"Date\",showspikes=True, spikethickness=2,spikedash='dot',spikecolor='#999999',spikemode='across'),\n",
    "               title=dict(text='Residual Graph',y=0.9,x=0.5,xanchor= 'center',yanchor='top'),\n",
    "               paper_bgcolor='#434343',plot_bgcolor='#000000',font_color='white',title_font_size=30,font_size=16)\n",
    "    \n",
    "#Observed Graph      \n",
    "oberved = go.Scatter(x=sales['Date'],y=sales['Weekly_Sales'],mode='lines',                                    \n",
    "             marker=dict(size=2,color='#0AC0C0',line=dict(width=2)))\n",
    "observed_graph=go.Figure(data=oberved,layout=layoutdecomposition)\n",
    "observed_graph.update_layout(title=dict(text='Observed Graph',y=0.9,x=0.5,xanchor= 'center',yanchor='top'))\n",
    "   \n",
    "#Trend Graph    \n",
    "trend = go.Scatter(x=resultdecompose.trend.index,y=resultdecompose.trend,mode='lines',\n",
    "             marker=dict(size=2,color='#0AC0C0',line=dict(width=2)))\n",
    "trend_graph = go.Figure(data=trend,layout=layoutdecomposition)\n",
    "trend_graph.update_layout(title=dict(text='Trend Graph',y=0.9,x=0.5,xanchor= 'center',yanchor='top'))\n",
    "\n",
    "#Seasonal Graph\n",
    "seasonal = go.Scatter(x=resultdecompose.seasonal.index,y=resultdecompose.seasonal,mode='lines',\n",
    "             marker=dict(size=2,color='#0AC0C0',line=dict(width=2)))\n",
    "seasonal_graph = go.Figure(data=seasonal,layout=layoutdecomposition)\n",
    "seasonal_graph.update_layout(title=dict(text='Seasonal Graph',y=0.9,x=0.5,xanchor= 'center',yanchor='top'))    \n",
    "    \n",
    "#Residual Graph\n",
    "residual = go.Scatter(x=resultdecompose.resid.index,y=resultdecompose.resid,mode='lines',\n",
    "             marker=dict(size=2,color='#0AC0C0',line=dict(width=2)))\n",
    "residual_graph = go.Figure(data=residual,layout=layoutdecomposition)"
   ]
  },
  {
   "cell_type": "markdown",
   "metadata": {},
   "source": [
    "<H3>In this section, we select the set of values for the prediction model(SARIMA);with the help of itertools , it creates <br><br>cartesian product for the given set of parameters.Then these set of paranmeters are run through the model that <br><br>give different results on running.These set of results are stored in the dataframe. Then, we find the set of<br><br> parameters  corresponding to the minimum value of result.<br><br><br>"
   ]
  },
  {
   "cell_type": "code",
   "execution_count": 9,
   "metadata": {},
   "outputs": [
    {
     "name": "stdout",
     "output_type": "stream",
     "text": [
      "                          Set Values     Results\n",
      "31  SARIMAX(0, 1, 1)x(1, 1, 1, 52)52  558.807058\n"
     ]
    }
   ],
   "source": [
    "#Forecasting Section\n",
    "p = d = q = range(0,2)\n",
    "pdq = list(itertools.product(p, d, q))\n",
    "seasonal_pdq = [(x[0], x[1], x[2], 52) for x in list(itertools.product(p, d, q))]\n",
    "resultdf=[]\n",
    "resultaicdf=[]\n",
    "#For Selecting Appropriate  Set of Parameters for Forecasting\n",
    "for param in pdq:\n",
    "    for param_seasonal in seasonal_pdq:\n",
    "            mod = sm.tsa.statespace.SARIMAX(salesarima,order=param,seasonal_order=param_seasonal,enforce_stationarity=False,\n",
    "                                                enforce_invertibility=False)\n",
    "            results = mod.fit()\n",
    "\n",
    "            resultdf.append('SARIMAX{}x{}52'.format(param,param_seasonal))\n",
    "            resultaicdf.append('{}'.format(results.aic))\n",
    "\n",
    "dfresultsaic=pd.DataFrame({'Set Values':resultdf,\n",
    "'Results':resultaicdf\n",
    "})            \n",
    "dfresultsaic['Results'] = pd.to_numeric(dfresultsaic['Results'])\n",
    "print(dfresultsaic[dfresultsaic.Results == dfresultsaic.Results.min()])"
   ]
  },
  {
   "cell_type": "markdown",
   "metadata": {},
   "source": [
    "<H3>From previous section it was easy to deduct the set of parameters and these set of parameters can be used for <br><br>our SARIMA Model."
   ]
  },
  {
   "cell_type": "code",
   "execution_count": 10,
   "metadata": {},
   "outputs": [],
   "source": [
    "mod = sm.tsa.statespace.SARIMAX(salesarima,order=(0,1,1),seasonal_order=(1,1,1,52),enforce_stationarity=False,\n",
    "enforce_invertibility = False)\n",
    "results = mod.fit()\n"
   ]
  },
  {
   "cell_type": "markdown",
   "metadata": {},
   "source": [
    "<h3>After creating a model sales data can easily be plotted over the last six months provided in the dataset. First<br><br> the required datsets are processed, so it can be used for developing traces."
   ]
  },
  {
   "cell_type": "code",
   "execution_count": 11,
   "metadata": {},
   "outputs": [
    {
     "data": {
      "text/html": [
       "<div>\n",
       "<style scoped>\n",
       "    .dataframe tbody tr th:only-of-type {\n",
       "        vertical-align: middle;\n",
       "    }\n",
       "\n",
       "    .dataframe tbody tr th {\n",
       "        vertical-align: top;\n",
       "    }\n",
       "\n",
       "    .dataframe thead th {\n",
       "        text-align: right;\n",
       "    }\n",
       "</style>\n",
       "<table border=\"1\" class=\"dataframe\">\n",
       "  <thead>\n",
       "    <tr style=\"text-align: right;\">\n",
       "      <th></th>\n",
       "      <th>Date</th>\n",
       "      <th>Weekly_Sales</th>\n",
       "    </tr>\n",
       "  </thead>\n",
       "  <tbody>\n",
       "    <tr>\n",
       "      <th>0</th>\n",
       "      <td>2010-02-05</td>\n",
       "      <td>16836.121997</td>\n",
       "    </tr>\n",
       "    <tr>\n",
       "      <th>1</th>\n",
       "      <td>2010-02-12</td>\n",
       "      <td>16352.056032</td>\n",
       "    </tr>\n",
       "    <tr>\n",
       "      <th>2</th>\n",
       "      <td>2010-02-19</td>\n",
       "      <td>16216.658979</td>\n",
       "    </tr>\n",
       "    <tr>\n",
       "      <th>3</th>\n",
       "      <td>2010-02-26</td>\n",
       "      <td>14899.549688</td>\n",
       "    </tr>\n",
       "    <tr>\n",
       "      <th>4</th>\n",
       "      <td>2010-03-05</td>\n",
       "      <td>15921.015727</td>\n",
       "    </tr>\n",
       "    <tr>\n",
       "      <th>...</th>\n",
       "      <td>...</td>\n",
       "      <td>...</td>\n",
       "    </tr>\n",
       "    <tr>\n",
       "      <th>138</th>\n",
       "      <td>2012-09-28</td>\n",
       "      <td>14765.327279</td>\n",
       "    </tr>\n",
       "    <tr>\n",
       "      <th>139</th>\n",
       "      <td>2012-10-05</td>\n",
       "      <td>15983.413747</td>\n",
       "    </tr>\n",
       "    <tr>\n",
       "      <th>140</th>\n",
       "      <td>2012-10-12</td>\n",
       "      <td>15427.596739</td>\n",
       "    </tr>\n",
       "    <tr>\n",
       "      <th>141</th>\n",
       "      <td>2012-10-19</td>\n",
       "      <td>15295.732397</td>\n",
       "    </tr>\n",
       "    <tr>\n",
       "      <th>142</th>\n",
       "      <td>2012-10-26</td>\n",
       "      <td>15391.725681</td>\n",
       "    </tr>\n",
       "  </tbody>\n",
       "</table>\n",
       "<p>143 rows × 2 columns</p>\n",
       "</div>"
      ],
      "text/plain": [
       "          Date  Weekly_Sales\n",
       "0   2010-02-05  16836.121997\n",
       "1   2010-02-12  16352.056032\n",
       "2   2010-02-19  16216.658979\n",
       "3   2010-02-26  14899.549688\n",
       "4   2010-03-05  15921.015727\n",
       "..         ...           ...\n",
       "138 2012-09-28  14765.327279\n",
       "139 2012-10-05  15983.413747\n",
       "140 2012-10-12  15427.596739\n",
       "141 2012-10-19  15295.732397\n",
       "142 2012-10-26  15391.725681\n",
       "\n",
       "[143 rows x 2 columns]"
      ]
     },
     "execution_count": 11,
     "metadata": {},
     "output_type": "execute_result"
    }
   ],
   "source": [
    "#Forecasting Graph Data for small period of time\n",
    "pred = results.get_prediction(start=pd.to_datetime('2012-01-06'),dynamic=True)\n",
    "pred_ci = pred.conf_int()\n",
    "\n",
    "ax = salesarima['2010-02-05':] #For Both Forecasting Graph\n",
    "pred = pred.predicted_mean\n",
    "ax = ax.to_frame()\n",
    "pred = pred.to_frame()\n",
    "\n",
    "ax.reset_index(level=0, inplace=True)\n",
    "pred.reset_index(level=0, inplace=True)\n",
    "#For renaming Column\n",
    "pred = pred.rename(columns={'index': 'Date'})\n",
    "pred_ci.columns.values[0]='Date'\n",
    "ax"
   ]
  },
  {
   "cell_type": "markdown",
   "metadata": {},
   "source": [
    "<H3>Traces are being developed for the last six months of the dataset.So, it can be easily compared with the <br><br>actual data and RMS Error can be calculated easily.  "
   ]
  },
  {
   "cell_type": "code",
   "execution_count": 12,
   "metadata": {},
   "outputs": [],
   "source": [
    "#Traces for small period in future\n",
    "traceax = go.Scatter(x=ax['Date'],y=ax['Weekly_Sales'],mode='lines',name='Observed',line_color='rgb(10, 192, 192)')\n",
    "\n",
    "tracepred = go.Scatter(x=pred['Date'],y=pred['predicted_mean'],mode='lines',name='Predicted')\n",
    "\n",
    "traceupperpred = go.Scatter(x=pred['Date'],y=pred_ci.iloc[:,1],mode='lines',name='Predicted',showlegend=False,\n",
    "                         fillcolor='rgba(169,169,169,0.5)',line_color='rgba(169,169,169,0)',hoverinfo='skip')\n",
    "\n",
    "tracelowerpred = go.Scatter(x=pred['Date'],y=pred_ci.iloc[:,0],mode='lines',name='Predicted',fill='tonexty',showlegend=False,\n",
    "                         fillcolor='rgba(169,169,169,0.5)',line_color='rgba(169,169,169,0)',hoverinfo='skip')\n",
    "\n",
    "datapred = [traceax,tracepred,traceupperpred,tracelowerpred]\n",
    "\n",
    "layoutpred = go.Layout(hovermode='x',spikedistance=1000,font_family='Sailec',\n",
    "    xaxis=dict(title='Date',showspikes=True, spikethickness=2,spikedash='dot',spikecolor='#999999',spikemode='across',),\n",
    "    yaxis=dict(title='Average Weekly Sales'),paper_bgcolor='#434343',plot_bgcolor='#000000',font_color='white',font_size=16)\n",
    "\n",
    "figpred=go.Figure(data=datapred,layout=layoutpred)\n"
   ]
  },
  {
   "cell_type": "markdown",
   "metadata": {},
   "source": [
    "<H3>Data for the model are processed over the larger period of time, so it can be used for developing traces."
   ]
  },
  {
   "cell_type": "code",
   "execution_count": 13,
   "metadata": {
    "scrolled": true
   },
   "outputs": [],
   "source": [
    "#Forecasting Graph Data for large period of time\n",
    "pred_uc500 = results.get_forecast(steps=500)\n",
    "pred_ci500 = pred_uc500.conf_int()\n",
    "\n",
    "pred_uc500 = pred_uc500.predicted_mean\n",
    "pred_uc500 = pred_uc500.to_frame()\n",
    "pred_uc500.reset_index(level=0, inplace=True)\n",
    "pred_uc500.columns.values[0]='Date'"
   ]
  },
  {
   "cell_type": "markdown",
   "metadata": {},
   "source": [
    "<H3>Traces are being developed after the end of data i.e. over the larger period over time(years).So, it can be<br><br>\n",
    "easily predicted on the basis of historical data and take data driven decisions."
   ]
  },
  {
   "cell_type": "code",
   "execution_count": 14,
   "metadata": {},
   "outputs": [],
   "source": [
    "#Traces for large period in future\n",
    "\n",
    "tracepred_uc500 = go.Scatter(x=pred_uc500['Date'],y=pred_uc500['predicted_mean'],mode='lines',name='Predicted')\n",
    "\n",
    "traceupperpred_uc500 = go.Scatter(x=pred_uc500['Date'],\n",
    "                     y=pred_ci500.iloc[:,1],mode='lines',name='Predicted',showlegend=False,\n",
    "                     fillcolor='rgba(169,169,169,0.5)',line_color='rgba(169,169,169,0)',hoverinfo='skip')\n",
    "\n",
    "tracelowerpred_uc500 = go.Scatter(x=pred_uc500['Date'],\n",
    "                     y=pred_ci500.iloc[:,0],mode='lines',name='Predicted',fill='tonexty',showlegend=False,\n",
    "                     fillcolor='rgba(169,169,169,0.5)',line_color='rgba(169,169,169,0)',hoverinfo='skip')\n",
    "\n",
    "datapred_uc500 = [traceax,tracepred_uc500,traceupperpred_uc500,tracelowerpred_uc500]\n",
    "\n",
    "figpred_uc500 = go.Figure(data=datapred_uc500,layout=layoutpred)\n"
   ]
  },
  {
   "cell_type": "markdown",
   "metadata": {},
   "source": [
    "<H3>For every regressive model Root Mean Square(RMS) error is calculated to find out about the efficiency<br><br> of the model.<br><br>\n",
    "RMS Error is given by:  "
   ]
  },
  {
   "cell_type": "code",
   "execution_count": 15,
   "metadata": {},
   "outputs": [],
   "source": [
    "#Root Mean Square Error\n",
    "truthax = salesarima['2012-01-06':]\n",
    "truthax = truthax.to_frame()\n",
    "truthax.reset_index(level=0, inplace=True)\n",
    "del truthax['Date']\n",
    "\n",
    "errorpred = pred\n",
    "del errorpred['Date']\n",
    "\n",
    "error = np.square(errorpred['predicted_mean']-truthax['Weekly_Sales'])\n",
    "stderror = error.mean()\n",
    "rmseerror = round(np.sqrt(stderror), 2)\n",
    "\n"
   ]
  },
  {
   "cell_type": "markdown",
   "metadata": {},
   "source": [
    "<H3>This is the main section of our app. Layout of the app is developed.This section conatins the result of our <br><br>statistical computations and graphs are displayed.This section only contains the result of our computations as<br><br> user does is not concerned with process , only with the result. Main Purpose of this section to express the graph<br><br> in highly effective and attractive manner. Graphs should be easy to understand and must have proper layout.<br><br>This section will act as front layer for the user who want to take data driven decisions."
   ]
  },
  {
   "cell_type": "code",
   "execution_count": 16,
   "metadata": {},
   "outputs": [],
   "source": [
    "#APP SECTION\n",
    "app.layout = html.Div([\n",
    "    \n",
    "    #Styling the heading\n",
    "    html.Div([\n",
    "    html.Div(html.Img(src=app.get_asset_url(\"WalmartSpark.png\"),\n",
    "                      style=dict(height='10%',width='7%',marginBottom='-2%',marginTop='2%',marginLeft='47%'),)),\n",
    "    \n",
    "    html.H1(children='Walmart Sales Analysis',style=dict(fontSize='48px',color='white',textAlign='center')),\n",
    "    \n",
    "    ],style=dict(backgroundColor='',margin='0%')),\n",
    "    \n",
    "    #DATA Visualization Section\n",
    "    html.Div([html.H1(children='''Data Visualization - Box Plot''',style=dict(textAlign='center',fontSize='40px'))],\n",
    "            style=dict(backgroundColor='#1F2833',marginTop='2%',color='white')),\n",
    "    \n",
    "    # Box Plot\n",
    "    html.Div([\n",
    "    html.Div([html.H2(\"X-axis:\")],style=dict(width='50%',display='inline-block',fontSize='115%',color='white')),\n",
    "    html.Div([html.H2(\"Y-axis:\")],style=dict(width='50%',display='inline-block',fontSize='115%',color='white')),\n",
    "    \n",
    "    #DropDown 1\n",
    "    html.Div([\n",
    "    dcc.Dropdown(\n",
    "        id = 'x-axis', \n",
    "        options = [{'value': x, 'label': x} \n",
    "                 for x in features],\n",
    "        value = 'Store', \n",
    "    )],style = dict(width='50%',display='inline-block')),\n",
    "    \n",
    "    #DropDown 2\n",
    "    html.Div([\n",
    "    dcc.Dropdown(\n",
    "        id = 'y-axis', \n",
    "        options = [{'value': x, 'label': x} \n",
    "                 for x in features],\n",
    "        value = 'Weekly_Sales',  \n",
    "    )],style = dict(width='50%',display='inline-block')),\n",
    "    \n",
    "    #Box-Graph\n",
    "    html.Div([dcc.Graph(id=\"box-plot\")])\n",
    "    ],style = dict(width='98%',marginLeft='1%')),   \n",
    "    \n",
    "    #SARIMA SECTION\n",
    "    #Decomposition Section\n",
    "    html.Div([html.H1(children='''SARIMA SECTION''',style=dict(textAlign=\"center\",fontSize= \"40px\"))]\n",
    "             ,style=dict(backgroundColor='#1F2833',margin='0%',color='white')),\n",
    "    \n",
    "    html.Div([html.H1(children='''Decomposition Of Sales DATA ''',\n",
    "              style=dict(textAlign=\"center\",fontSize= \"30px\",color='white'))]),\n",
    "    \n",
    "    html.Div([\n",
    "    #Observed Graph    \n",
    "    html.Div([dcc.Graph(figure=observed_graph,config=dict(displayModeBar=False))],\n",
    "             style=dict(display='inline-block',width='49%',marginLeft='1%')),\n",
    "    \n",
    "    #Trend Graph\n",
    "    html.Div([dcc.Graph(figure=trend_graph,config=dict(displayModeBar=False))],\n",
    "             style=dict(display='inline-block',width='48%',marginLeft='1%'))]),\n",
    "    \n",
    "    html.Div([\n",
    "    #Seasonal Graph\n",
    "    html.Div([dcc.Graph(figure=seasonal_graph,config=dict(displayModeBar=False))],\n",
    "             style=dict(display='inline-block',width='49%',marginLeft='1%')),\n",
    "        \n",
    "    #Residual Graph\n",
    "    html.Div([dcc.Graph(figure=residual_graph,config=dict(displayModeBar=False))],\n",
    "             style=dict(display='inline-block',width='48%',marginLeft='1%'))],style=dict(marginTop='4%')),\n",
    "     \n",
    "    html.Br(),html.Br(),html.Br(),\n",
    "    #Predicted Graph\n",
    "    html.H1(children='''Forecasting of Walmart Sales Data''',\n",
    "            style=dict(textAlign='center',color='white',fontSize='40px',backgroundColor='#1F2833')),\n",
    "   \n",
    "    html.H2(children='''Forecasting Over 6 Months''',\n",
    "            style=dict(textAlign='center',fontSize='36px',color='white')),\n",
    "    html.Div([dcc.Graph(figure=figpred)],style=dict(width='98%',marginLeft='1%')),\n",
    "    \n",
    "    html.H2(children='''Forecasting Over next 10 Years''',\n",
    "            style=dict(textAlign='center',fontSize='36px',color='white')),\n",
    "    html.Div([dcc.Graph(figure=figpred_uc500)],style=dict(width='98%',marginLeft='1%')),\n",
    "    html.H5(children='''Note : All the values used in the line graph is based on average weekly sales across all \n",
    "    departments and stores on a particular day.i.e.Average Weekly Sales of all departments across\n",
    "    all stores on a particular day. \n",
    "    Formula Used for Average Weekly Sales (Departments) on a particular day =\n",
    "    Total Sales/Total number weekly sales column present on that date ,''',\n",
    "            style=dict(textAlign='center',color='white')),\n",
    "    html.Div([\n",
    "        html.H1('The Root Mean Square Error in the Forecasting Model is {}'.format(rmseerror),\n",
    "           style=dict(color='white',fontSize='36px')),\n",
    "    ],style=dict(marginLeft='1%'))\n",
    "    \n",
    "],style=dict(backgroundImage='linear-gradient(#000000,#2d3436)',margin='-8px')) \n"
   ]
  },
  {
   "cell_type": "markdown",
   "metadata": {},
   "source": [
    "<H3>Box Plot is developed according to the user preference , so it can be easily used."
   ]
  },
  {
   "cell_type": "code",
   "execution_count": 17,
   "metadata": {},
   "outputs": [],
   "source": [
    "#Box Plots Callback\n",
    "@app.callback(\n",
    "    Output(\"box-plot\", \"figure\"), \n",
    "    [Input(\"x-axis\", \"value\"), \n",
    "     Input(\"y-axis\", \"value\")])\n",
    "\n",
    "def generate_chart(x, y):\n",
    "    fig = px.box(df, x=x, y=y,color=x,hover_data=[\"Date\",\"Store\"])\n",
    "    fig.update_layout(font_family='Sailec',paper_bgcolor='#434343',plot_bgcolor='#000000',font_color='white',font_size=16)\n",
    "    return fig\n"
   ]
  },
  {
   "cell_type": "markdown",
   "metadata": {},
   "source": [
    "<H3>In this section app is run, and user can easily see the results."
   ]
  },
  {
   "cell_type": "code",
   "execution_count": null,
   "metadata": {
    "scrolled": false
   },
   "outputs": [
    {
     "name": "stdout",
     "output_type": "stream",
     "text": [
      "Dash is running on http://127.0.0.1:8080/\n",
      "\n",
      " * Serving Flask app \"__main__\" (lazy loading)\n",
      " * Environment: production\n",
      "\u001b[31m   WARNING: This is a development server. Do not use it in a production deployment.\u001b[0m\n",
      "\u001b[2m   Use a production WSGI server instead.\u001b[0m\n",
      " * Debug mode: off\n"
     ]
    },
    {
     "name": "stderr",
     "output_type": "stream",
     "text": [
      " * Running on http://127.0.0.1:8080/ (Press CTRL+C to quit)\n",
      "127.0.0.1 - - [29/Jun/2022 20:21:13] \"GET / HTTP/1.1\" 200 -\n",
      "127.0.0.1 - - [29/Jun/2022 20:21:14] \"GET /_dash-component-suites/dash/deps/react@16.v2_5_1m1656512868.14.0.min.js HTTP/1.1\" 200 -\n",
      "127.0.0.1 - - [29/Jun/2022 20:21:14] \"GET /_dash-component-suites/dash/deps/polyfill@7.v2_5_1m1656512868.12.1.min.js HTTP/1.1\" 200 -\n",
      "127.0.0.1 - - [29/Jun/2022 20:21:14] \"GET /_dash-component-suites/dash/dash-renderer/build/dash_renderer.v2_5_1m1656512867.min.js HTTP/1.1\" 200 -\n",
      "127.0.0.1 - - [29/Jun/2022 20:21:14] \"GET /_dash-component-suites/dash/dcc/dash_core_components.v2_5_0m1656512868.js HTTP/1.1\" 200 -\n",
      "127.0.0.1 - - [29/Jun/2022 20:21:14] \"GET /_dash-component-suites/dash/dash_table/bundle.v5_1_3m1656512867.js HTTP/1.1\" 200 -\n",
      "127.0.0.1 - - [29/Jun/2022 20:21:14] \"GET /_dash-component-suites/dash/html/dash_html_components.v2_0_3m1656512868.min.js HTTP/1.1\" 200 -\n",
      "127.0.0.1 - - [29/Jun/2022 20:21:14] \"GET /_dash-component-suites/dash/deps/prop-types@15.v2_5_1m1656512868.8.1.min.js HTTP/1.1\" 200 -\n",
      "127.0.0.1 - - [29/Jun/2022 20:21:14] \"GET /_dash-component-suites/dash/dcc/dash_core_components-shared.v2_5_0m1656512868.js HTTP/1.1\" 200 -\n",
      "127.0.0.1 - - [29/Jun/2022 20:21:14] \"GET /_dash-component-suites/dash/deps/react-dom@16.v2_5_1m1656512868.14.0.min.js HTTP/1.1\" 200 -\n",
      "127.0.0.1 - - [29/Jun/2022 20:21:14] \"GET /_dash-dependencies HTTP/1.1\" 200 -\n",
      "127.0.0.1 - - [29/Jun/2022 20:21:14] \"GET /_dash-layout HTTP/1.1\" 200 -\n",
      "127.0.0.1 - - [29/Jun/2022 20:21:14] \"GET /_favicon.ico?v=2.5.1 HTTP/1.1\" 200 -\n",
      "127.0.0.1 - - [29/Jun/2022 20:21:14] \"GET /_dash-component-suites/dash/dcc/async-graph.js HTTP/1.1\" 200 -\n",
      "127.0.0.1 - - [29/Jun/2022 20:21:14] \"GET /_dash-component-suites/dash/dcc/async-dropdown.js HTTP/1.1\" 200 -\n",
      "127.0.0.1 - - [29/Jun/2022 20:21:14] \"GET /_dash-component-suites/dash/dcc/async-plotlyjs.js HTTP/1.1\" 200 -\n",
      "127.0.0.1 - - [29/Jun/2022 20:21:14] \"GET /assets/WalmartSpark.png HTTP/1.1\" 200 -\n",
      "127.0.0.1 - - [29/Jun/2022 20:21:28] \"POST /_dash-update-component HTTP/1.1\" 200 -\n"
     ]
    }
   ],
   "source": [
    "if __name__=='__main__':\n",
    "    app.run_server(port=8080)\n",
    "    "
   ]
  },
  {
   "cell_type": "markdown",
   "metadata": {},
   "source": []
  },
  {
   "cell_type": "code",
   "execution_count": null,
   "metadata": {},
   "outputs": [],
   "source": []
  },
  {
   "cell_type": "code",
   "execution_count": null,
   "metadata": {},
   "outputs": [],
   "source": []
  },
  {
   "cell_type": "code",
   "execution_count": 4,
   "metadata": {},
   "outputs": [],
   "source": []
  },
  {
   "cell_type": "code",
   "execution_count": null,
   "metadata": {},
   "outputs": [],
   "source": [
    "\n"
   ]
  },
  {
   "cell_type": "code",
   "execution_count": 6,
   "metadata": {},
   "outputs": [],
   "source": []
  },
  {
   "cell_type": "code",
   "execution_count": 7,
   "metadata": {},
   "outputs": [],
   "source": []
  },
  {
   "cell_type": "code",
   "execution_count": 8,
   "metadata": {},
   "outputs": [],
   "source": []
  },
  {
   "cell_type": "code",
   "execution_count": null,
   "metadata": {},
   "outputs": [],
   "source": []
  },
  {
   "cell_type": "code",
   "execution_count": 10,
   "metadata": {},
   "outputs": [],
   "source": []
  },
  {
   "cell_type": "code",
   "execution_count": 11,
   "metadata": {},
   "outputs": [],
   "source": [
    "\n"
   ]
  },
  {
   "cell_type": "code",
   "execution_count": 12,
   "metadata": {},
   "outputs": [],
   "source": []
  },
  {
   "cell_type": "code",
   "execution_count": 13,
   "metadata": {},
   "outputs": [],
   "source": []
  },
  {
   "cell_type": "code",
   "execution_count": 14,
   "metadata": {},
   "outputs": [],
   "source": []
  },
  {
   "cell_type": "code",
   "execution_count": 15,
   "metadata": {},
   "outputs": [
    {
     "name": "stdout",
     "output_type": "stream",
     "text": [
      "509.884864050486\n"
     ]
    }
   ],
   "source": []
  },
  {
   "cell_type": "code",
   "execution_count": 16,
   "metadata": {},
   "outputs": [],
   "source": []
  },
  {
   "cell_type": "code",
   "execution_count": 17,
   "metadata": {},
   "outputs": [],
   "source": []
  },
  {
   "cell_type": "code",
   "execution_count": null,
   "metadata": {},
   "outputs": [],
   "source": [
    "\n"
   ]
  },
  {
   "cell_type": "code",
   "execution_count": null,
   "metadata": {},
   "outputs": [],
   "source": []
  },
  {
   "cell_type": "code",
   "execution_count": null,
   "metadata": {},
   "outputs": [],
   "source": []
  },
  {
   "cell_type": "code",
   "execution_count": null,
   "metadata": {},
   "outputs": [],
   "source": []
  },
  {
   "cell_type": "code",
   "execution_count": null,
   "metadata": {},
   "outputs": [],
   "source": []
  },
  {
   "cell_type": "code",
   "execution_count": null,
   "metadata": {},
   "outputs": [],
   "source": []
  },
  {
   "cell_type": "code",
   "execution_count": null,
   "metadata": {},
   "outputs": [],
   "source": []
  },
  {
   "cell_type": "code",
   "execution_count": null,
   "metadata": {},
   "outputs": [],
   "source": []
  },
  {
   "cell_type": "code",
   "execution_count": null,
   "metadata": {},
   "outputs": [],
   "source": []
  },
  {
   "cell_type": "code",
   "execution_count": null,
   "metadata": {},
   "outputs": [],
   "source": []
  },
  {
   "cell_type": "code",
   "execution_count": null,
   "metadata": {},
   "outputs": [],
   "source": []
  },
  {
   "cell_type": "code",
   "execution_count": null,
   "metadata": {},
   "outputs": [],
   "source": []
  },
  {
   "cell_type": "code",
   "execution_count": null,
   "metadata": {},
   "outputs": [],
   "source": []
  },
  {
   "cell_type": "code",
   "execution_count": null,
   "metadata": {},
   "outputs": [],
   "source": []
  },
  {
   "cell_type": "code",
   "execution_count": null,
   "metadata": {},
   "outputs": [],
   "source": []
  },
  {
   "cell_type": "code",
   "execution_count": null,
   "metadata": {},
   "outputs": [],
   "source": []
  },
  {
   "cell_type": "code",
   "execution_count": null,
   "metadata": {},
   "outputs": [],
   "source": []
  },
  {
   "cell_type": "code",
   "execution_count": null,
   "metadata": {},
   "outputs": [],
   "source": []
  },
  {
   "cell_type": "code",
   "execution_count": null,
   "metadata": {},
   "outputs": [],
   "source": []
  },
  {
   "cell_type": "code",
   "execution_count": null,
   "metadata": {},
   "outputs": [],
   "source": []
  },
  {
   "cell_type": "code",
   "execution_count": null,
   "metadata": {},
   "outputs": [],
   "source": []
  },
  {
   "cell_type": "code",
   "execution_count": null,
   "metadata": {},
   "outputs": [],
   "source": []
  },
  {
   "cell_type": "code",
   "execution_count": null,
   "metadata": {},
   "outputs": [],
   "source": []
  },
  {
   "cell_type": "code",
   "execution_count": null,
   "metadata": {},
   "outputs": [],
   "source": []
  },
  {
   "cell_type": "code",
   "execution_count": null,
   "metadata": {},
   "outputs": [],
   "source": []
  },
  {
   "cell_type": "code",
   "execution_count": null,
   "metadata": {},
   "outputs": [],
   "source": []
  },
  {
   "cell_type": "code",
   "execution_count": null,
   "metadata": {},
   "outputs": [],
   "source": []
  },
  {
   "cell_type": "code",
   "execution_count": null,
   "metadata": {},
   "outputs": [],
   "source": []
  },
  {
   "cell_type": "code",
   "execution_count": null,
   "metadata": {},
   "outputs": [],
   "source": []
  },
  {
   "cell_type": "code",
   "execution_count": null,
   "metadata": {},
   "outputs": [],
   "source": []
  },
  {
   "cell_type": "code",
   "execution_count": null,
   "metadata": {},
   "outputs": [],
   "source": []
  },
  {
   "cell_type": "code",
   "execution_count": null,
   "metadata": {},
   "outputs": [],
   "source": []
  },
  {
   "cell_type": "code",
   "execution_count": null,
   "metadata": {},
   "outputs": [],
   "source": []
  },
  {
   "cell_type": "code",
   "execution_count": null,
   "metadata": {},
   "outputs": [],
   "source": []
  },
  {
   "cell_type": "code",
   "execution_count": null,
   "metadata": {},
   "outputs": [],
   "source": []
  },
  {
   "cell_type": "code",
   "execution_count": null,
   "metadata": {},
   "outputs": [],
   "source": []
  },
  {
   "cell_type": "code",
   "execution_count": null,
   "metadata": {},
   "outputs": [],
   "source": []
  },
  {
   "cell_type": "code",
   "execution_count": null,
   "metadata": {},
   "outputs": [],
   "source": []
  },
  {
   "cell_type": "code",
   "execution_count": null,
   "metadata": {},
   "outputs": [],
   "source": []
  },
  {
   "cell_type": "code",
   "execution_count": null,
   "metadata": {},
   "outputs": [],
   "source": []
  },
  {
   "cell_type": "code",
   "execution_count": null,
   "metadata": {},
   "outputs": [],
   "source": []
  },
  {
   "cell_type": "code",
   "execution_count": null,
   "metadata": {},
   "outputs": [],
   "source": []
  },
  {
   "cell_type": "code",
   "execution_count": null,
   "metadata": {},
   "outputs": [],
   "source": []
  },
  {
   "cell_type": "code",
   "execution_count": null,
   "metadata": {},
   "outputs": [],
   "source": []
  }
 ],
 "metadata": {
  "kernelspec": {
   "display_name": "Python 3 (ipykernel)",
   "language": "python",
   "name": "python3"
  },
  "language_info": {
   "codemirror_mode": {
    "name": "ipython",
    "version": 3
   },
   "file_extension": ".py",
   "mimetype": "text/x-python",
   "name": "python",
   "nbconvert_exporter": "python",
   "pygments_lexer": "ipython3",
   "version": "3.9.7"
  }
 },
 "nbformat": 4,
 "nbformat_minor": 4
}
