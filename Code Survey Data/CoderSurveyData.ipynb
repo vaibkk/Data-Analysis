{
 "cells": [
  {
   "cell_type": "markdown",
   "metadata": {},
   "source": [
    "<center><h1><u>PROGRAM CODE AND SNIPPETS</u>"
   ]
  },
  {
   "cell_type": "markdown",
   "metadata": {},
   "source": [
    "<p>"
   ]
  },
  {
   "cell_type": "markdown",
   "metadata": {},
   "source": [
    "<b>Importing Common Libraries "
   ]
  },
  {
   "cell_type": "code",
   "execution_count": 2,
   "metadata": {},
   "outputs": [],
   "source": [
    "import pandas as pd #For inporting excel file to dataframe\n",
    "import matplotlib.pyplot as plt #For Developing Graphs\n",
    "%matplotlib inline"
   ]
  },
  {
   "cell_type": "markdown",
   "metadata": {},
   "source": [
    "<p>"
   ]
  },
  {
   "cell_type": "markdown",
   "metadata": {},
   "source": [
    "<b>Importing Excel File for data visualization and get to know about number of rows and columns in file"
   ]
  },
  {
   "cell_type": "code",
   "execution_count": 3,
   "metadata": {},
   "outputs": [
    {
     "name": "stderr",
     "output_type": "stream",
     "text": [
      "C:\\Users\\vaibh\\Anaconda3\\lib\\site-packages\\IPython\\core\\interactiveshell.py:3058: DtypeWarning: Columns (21,57) have mixed types. Specify dtype option on import or set low_memory=False.\n",
      "  interactivity=interactivity, compiler=compiler, result=result)\n"
     ]
    }
   ],
   "source": [
    "surveydata=pd.read_csv(r\"C:\\Users\\vaibh\\Machine Learning\\DataSets\\2016FCCNewCodersSurveyData.csv\") # For importing Excel File\n"
   ]
  },
  {
   "cell_type": "markdown",
   "metadata": {},
   "source": [
    "<p>"
   ]
  },
  {
   "cell_type": "markdown",
   "metadata": {},
   "source": [
    "<b>Describing the data"
   ]
  },
  {
   "cell_type": "code",
   "execution_count": 5,
   "metadata": {},
   "outputs": [
    {
     "data": {
      "text/plain": [
       "Age                     float64\n",
       "AttendedBootcamp        float64\n",
       "BootcampFinish          float64\n",
       "BootcampFullJobAfter    float64\n",
       "BootcampLoanYesNo       float64\n",
       "                         ...   \n",
       "ResourceW3Schools       float64\n",
       "ResourceYouTube         float64\n",
       "SchoolDegree             object\n",
       "SchoolMajor              object\n",
       "StudentDebtOwe          float64\n",
       "Length: 113, dtype: object"
      ]
     },
     "execution_count": 5,
     "metadata": {},
     "output_type": "execute_result"
    }
   ],
   "source": [
    "surveydata.describe() #Describing the data in excel file\n",
    "surveydata.dtypes"
   ]
  },
  {
   "cell_type": "markdown",
   "metadata": {},
   "source": [
    "<p>"
   ]
  },
  {
   "cell_type": "markdown",
   "metadata": {},
   "source": [
    "<b>The list of columns in excel file"
   ]
  },
  {
   "cell_type": "code",
   "execution_count": 9,
   "metadata": {},
   "outputs": [
    {
     "data": {
      "text/plain": [
       "Index(['Age', 'AttendedBootcamp', 'BootcampFinish', 'BootcampFullJobAfter',\n",
       "       'BootcampLoanYesNo', 'BootcampMonthsAgo', 'BootcampName',\n",
       "       'BootcampPostSalary', 'BootcampRecommend', 'ChildrenNumber',\n",
       "       ...\n",
       "       'ResourceSoloLearn', 'ResourceStackOverflow', 'ResourceTreehouse',\n",
       "       'ResourceUdacity', 'ResourceUdemy', 'ResourceW3Schools',\n",
       "       'ResourceYouTube', 'SchoolDegree', 'SchoolMajor', 'StudentDebtOwe'],\n",
       "      dtype='object', length=113)"
      ]
     },
     "execution_count": 9,
     "metadata": {},
     "output_type": "execute_result"
    }
   ],
   "source": [
    "surveydata.columns # Displaying name of Columns"
   ]
  },
  {
   "cell_type": "markdown",
   "metadata": {},
   "source": [
    "<p>"
   ]
  },
  {
   "cell_type": "markdown",
   "metadata": {},
   "source": [
    "<b> To get data of first few columns to easily understand the contexts of data"
   ]
  },
  {
   "cell_type": "code",
   "execution_count": 10,
   "metadata": {},
   "outputs": [
    {
     "data": {
      "text/html": [
       "<div>\n",
       "<style scoped>\n",
       "    .dataframe tbody tr th:only-of-type {\n",
       "        vertical-align: middle;\n",
       "    }\n",
       "\n",
       "    .dataframe tbody tr th {\n",
       "        vertical-align: top;\n",
       "    }\n",
       "\n",
       "    .dataframe thead th {\n",
       "        text-align: right;\n",
       "    }\n",
       "</style>\n",
       "<table border=\"1\" class=\"dataframe\">\n",
       "  <thead>\n",
       "    <tr style=\"text-align: right;\">\n",
       "      <th></th>\n",
       "      <th>Age</th>\n",
       "      <th>AttendedBootcamp</th>\n",
       "      <th>BootcampFinish</th>\n",
       "      <th>BootcampFullJobAfter</th>\n",
       "      <th>BootcampLoanYesNo</th>\n",
       "      <th>BootcampMonthsAgo</th>\n",
       "      <th>BootcampName</th>\n",
       "      <th>BootcampPostSalary</th>\n",
       "      <th>BootcampRecommend</th>\n",
       "      <th>ChildrenNumber</th>\n",
       "      <th>...</th>\n",
       "      <th>ResourceSoloLearn</th>\n",
       "      <th>ResourceStackOverflow</th>\n",
       "      <th>ResourceTreehouse</th>\n",
       "      <th>ResourceUdacity</th>\n",
       "      <th>ResourceUdemy</th>\n",
       "      <th>ResourceW3Schools</th>\n",
       "      <th>ResourceYouTube</th>\n",
       "      <th>SchoolDegree</th>\n",
       "      <th>SchoolMajor</th>\n",
       "      <th>StudentDebtOwe</th>\n",
       "    </tr>\n",
       "  </thead>\n",
       "  <tbody>\n",
       "    <tr>\n",
       "      <td>0</td>\n",
       "      <td>28.0</td>\n",
       "      <td>0.0</td>\n",
       "      <td>NaN</td>\n",
       "      <td>NaN</td>\n",
       "      <td>NaN</td>\n",
       "      <td>NaN</td>\n",
       "      <td>NaN</td>\n",
       "      <td>NaN</td>\n",
       "      <td>NaN</td>\n",
       "      <td>NaN</td>\n",
       "      <td>...</td>\n",
       "      <td>NaN</td>\n",
       "      <td>NaN</td>\n",
       "      <td>NaN</td>\n",
       "      <td>NaN</td>\n",
       "      <td>NaN</td>\n",
       "      <td>NaN</td>\n",
       "      <td>NaN</td>\n",
       "      <td>some college credit, no degree</td>\n",
       "      <td>NaN</td>\n",
       "      <td>20000.0</td>\n",
       "    </tr>\n",
       "    <tr>\n",
       "      <td>1</td>\n",
       "      <td>22.0</td>\n",
       "      <td>0.0</td>\n",
       "      <td>NaN</td>\n",
       "      <td>NaN</td>\n",
       "      <td>NaN</td>\n",
       "      <td>NaN</td>\n",
       "      <td>NaN</td>\n",
       "      <td>NaN</td>\n",
       "      <td>NaN</td>\n",
       "      <td>NaN</td>\n",
       "      <td>...</td>\n",
       "      <td>NaN</td>\n",
       "      <td>NaN</td>\n",
       "      <td>NaN</td>\n",
       "      <td>NaN</td>\n",
       "      <td>1.0</td>\n",
       "      <td>NaN</td>\n",
       "      <td>NaN</td>\n",
       "      <td>some college credit, no degree</td>\n",
       "      <td>NaN</td>\n",
       "      <td>NaN</td>\n",
       "    </tr>\n",
       "    <tr>\n",
       "      <td>2</td>\n",
       "      <td>19.0</td>\n",
       "      <td>0.0</td>\n",
       "      <td>NaN</td>\n",
       "      <td>NaN</td>\n",
       "      <td>NaN</td>\n",
       "      <td>NaN</td>\n",
       "      <td>NaN</td>\n",
       "      <td>NaN</td>\n",
       "      <td>NaN</td>\n",
       "      <td>NaN</td>\n",
       "      <td>...</td>\n",
       "      <td>NaN</td>\n",
       "      <td>NaN</td>\n",
       "      <td>NaN</td>\n",
       "      <td>NaN</td>\n",
       "      <td>NaN</td>\n",
       "      <td>NaN</td>\n",
       "      <td>NaN</td>\n",
       "      <td>high school diploma or equivalent (GED)</td>\n",
       "      <td>NaN</td>\n",
       "      <td>NaN</td>\n",
       "    </tr>\n",
       "    <tr>\n",
       "      <td>3</td>\n",
       "      <td>26.0</td>\n",
       "      <td>0.0</td>\n",
       "      <td>NaN</td>\n",
       "      <td>NaN</td>\n",
       "      <td>NaN</td>\n",
       "      <td>NaN</td>\n",
       "      <td>NaN</td>\n",
       "      <td>NaN</td>\n",
       "      <td>NaN</td>\n",
       "      <td>NaN</td>\n",
       "      <td>...</td>\n",
       "      <td>NaN</td>\n",
       "      <td>NaN</td>\n",
       "      <td>NaN</td>\n",
       "      <td>NaN</td>\n",
       "      <td>NaN</td>\n",
       "      <td>NaN</td>\n",
       "      <td>NaN</td>\n",
       "      <td>bachelor's degree</td>\n",
       "      <td>Cinematography And Film</td>\n",
       "      <td>7000.0</td>\n",
       "    </tr>\n",
       "    <tr>\n",
       "      <td>4</td>\n",
       "      <td>20.0</td>\n",
       "      <td>0.0</td>\n",
       "      <td>NaN</td>\n",
       "      <td>NaN</td>\n",
       "      <td>NaN</td>\n",
       "      <td>NaN</td>\n",
       "      <td>NaN</td>\n",
       "      <td>NaN</td>\n",
       "      <td>NaN</td>\n",
       "      <td>NaN</td>\n",
       "      <td>...</td>\n",
       "      <td>NaN</td>\n",
       "      <td>NaN</td>\n",
       "      <td>NaN</td>\n",
       "      <td>NaN</td>\n",
       "      <td>NaN</td>\n",
       "      <td>NaN</td>\n",
       "      <td>NaN</td>\n",
       "      <td>some college credit, no degree</td>\n",
       "      <td>NaN</td>\n",
       "      <td>NaN</td>\n",
       "    </tr>\n",
       "  </tbody>\n",
       "</table>\n",
       "<p>5 rows × 113 columns</p>\n",
       "</div>"
      ],
      "text/plain": [
       "    Age  AttendedBootcamp  BootcampFinish  BootcampFullJobAfter  \\\n",
       "0  28.0               0.0             NaN                   NaN   \n",
       "1  22.0               0.0             NaN                   NaN   \n",
       "2  19.0               0.0             NaN                   NaN   \n",
       "3  26.0               0.0             NaN                   NaN   \n",
       "4  20.0               0.0             NaN                   NaN   \n",
       "\n",
       "   BootcampLoanYesNo  BootcampMonthsAgo BootcampName  BootcampPostSalary  \\\n",
       "0                NaN                NaN          NaN                 NaN   \n",
       "1                NaN                NaN          NaN                 NaN   \n",
       "2                NaN                NaN          NaN                 NaN   \n",
       "3                NaN                NaN          NaN                 NaN   \n",
       "4                NaN                NaN          NaN                 NaN   \n",
       "\n",
       "   BootcampRecommend  ChildrenNumber  ... ResourceSoloLearn  \\\n",
       "0                NaN             NaN  ...               NaN   \n",
       "1                NaN             NaN  ...               NaN   \n",
       "2                NaN             NaN  ...               NaN   \n",
       "3                NaN             NaN  ...               NaN   \n",
       "4                NaN             NaN  ...               NaN   \n",
       "\n",
       "   ResourceStackOverflow  ResourceTreehouse  ResourceUdacity  ResourceUdemy  \\\n",
       "0                    NaN                NaN              NaN            NaN   \n",
       "1                    NaN                NaN              NaN            1.0   \n",
       "2                    NaN                NaN              NaN            NaN   \n",
       "3                    NaN                NaN              NaN            NaN   \n",
       "4                    NaN                NaN              NaN            NaN   \n",
       "\n",
       "   ResourceW3Schools  ResourceYouTube  \\\n",
       "0                NaN              NaN   \n",
       "1                NaN              NaN   \n",
       "2                NaN              NaN   \n",
       "3                NaN              NaN   \n",
       "4                NaN              NaN   \n",
       "\n",
       "                              SchoolDegree              SchoolMajor  \\\n",
       "0           some college credit, no degree                      NaN   \n",
       "1           some college credit, no degree                      NaN   \n",
       "2  high school diploma or equivalent (GED)                      NaN   \n",
       "3                        bachelor's degree  Cinematography And Film   \n",
       "4           some college credit, no degree                      NaN   \n",
       "\n",
       "   StudentDebtOwe  \n",
       "0         20000.0  \n",
       "1             NaN  \n",
       "2             NaN  \n",
       "3          7000.0  \n",
       "4             NaN  \n",
       "\n",
       "[5 rows x 113 columns]"
      ]
     },
     "execution_count": 10,
     "metadata": {},
     "output_type": "execute_result"
    }
   ],
   "source": [
    "surveydata.head(5) #Displaying First few columns of Data frame"
   ]
  },
  {
   "cell_type": "markdown",
   "metadata": {},
   "source": [
    "<p>"
   ]
  },
  {
   "cell_type": "markdown",
   "metadata": {},
   "source": [
    "<b>To know about interest of aspiring coders"
   ]
  },
  {
   "cell_type": "code",
   "execution_count": 11,
   "metadata": {},
   "outputs": [
    {
     "data": {
      "text/plain": [
       "Full-Stack Web Developer            39.535599\n",
       "  Front-End Web Developer           21.205597\n",
       "Back-End Web Developer              10.825773\n",
       "  Data Scientist / Data Engineer     9.933877\n",
       "  Mobile Developer                   6.366292\n",
       "  User Experience Designer           4.228817\n",
       "  DevOps / SysAdmin                  3.367676\n",
       "  Product Manager                    2.937106\n",
       "  Quality Assurance Engineer         1.599262\n",
       "Name: JobRoleInterest, dtype: float64"
      ]
     },
     "execution_count": 11,
     "metadata": {},
     "output_type": "execute_result"
    }
   ],
   "source": [
    "surveydata['JobRoleInterest'].value_counts(normalize=True)*100 # To get to know about respondent interests"
   ]
  },
  {
   "cell_type": "markdown",
   "metadata": {},
   "source": [
    "<p>"
   ]
  },
  {
   "cell_type": "markdown",
   "metadata": {},
   "source": [
    "<b>Redirecting Column of Job Role Interest to new dataframe finalsurveydata  \n",
    "Spliting the  multiple interest and dropping the columns with null value"
   ]
  },
  {
   "cell_type": "code",
   "execution_count": 12,
   "metadata": {},
   "outputs": [
    {
     "data": {
      "text/plain": [
       "1               [  Front-End Web Developer]\n",
       "3               [  Front-End Web Developer]\n",
       "4                [Full-Stack Web Developer]\n",
       "19               [Full-Stack Web Developer]\n",
       "20               [Full-Stack Web Developer]\n",
       "                        ...                \n",
       "15602    [  Data Scientist / Data Engineer]\n",
       "15604           [  Front-End Web Developer]\n",
       "15605            [Full-Stack Web Developer]\n",
       "15610           [  Front-End Web Developer]\n",
       "15616           [  Front-End Web Developer]\n",
       "Name: JobRoleInterest, Length: 6503, dtype: object"
      ]
     },
     "execution_count": 12,
     "metadata": {},
     "output_type": "execute_result"
    }
   ],
   "source": [
    "finalsurveydata=surveydata['JobRoleInterest'].dropna() #Drop Rows and Columns with Null Values\n",
    "multipleinterest=finalsurveydata.str.split(',') #Splitting the Multiple Interest with ','\n",
    "multipleinterest"
   ]
  },
  {
   "cell_type": "markdown",
   "metadata": {},
   "source": [
    "<p>"
   ]
  },
  {
   "cell_type": "markdown",
   "metadata": {},
   "source": [
    "<b>Counting the number of multiple interest a individual have"
   ]
  },
  {
   "cell_type": "code",
   "execution_count": 13,
   "metadata": {},
   "outputs": [
    {
     "data": {
      "text/plain": [
       "1        1\n",
       "3        1\n",
       "4        1\n",
       "19       1\n",
       "20       1\n",
       "        ..\n",
       "15602    1\n",
       "15604    1\n",
       "15605    1\n",
       "15610    1\n",
       "15616    1\n",
       "Name: JobRoleInterest, Length: 6503, dtype: int64"
      ]
     },
     "execution_count": 13,
     "metadata": {},
     "output_type": "execute_result"
    }
   ],
   "source": [
    "countofmultipleinterest=multipleinterest.apply(lambda x:len (x))  \n",
    "countofmultipleinterest\n",
    "#lamda function is a single line fumction with no name to count the number of interest of an individual"
   ]
  },
  {
   "cell_type": "markdown",
   "metadata": {},
   "source": [
    "<p>"
   ]
  },
  {
   "cell_type": "markdown",
   "metadata": {},
   "source": [
    "<b>Redirecting Columns containing Web Developer and Mobile Developer to new dataframe webmobile developement\n",
    "Also Calculate the percentage of individuals interested in the field"
   ]
  },
  {
   "cell_type": "code",
   "execution_count": 14,
   "metadata": {},
   "outputs": [
    {
     "data": {
      "text/plain": [
       "True     77.933262\n",
       "False    22.066738\n",
       "Name: JobRoleInterest, dtype: float64"
      ]
     },
     "execution_count": 14,
     "metadata": {},
     "output_type": "execute_result"
    }
   ],
   "source": [
    "#For Getting the information about respondents who have opted for Web And Mobile Develooper\n",
    "webmobiledevelopement=finalsurveydata.str.contains('Web Developer|Mobile Developer') \n",
    "#For Calculating the percentage of Respondents who want to opt for Web And Mobile Developer\n",
    "frequencytable=webmobiledevelopement.value_counts(normalize=True)*100 \n",
    "frequencytable"
   ]
  },
  {
   "cell_type": "markdown",
   "metadata": {},
   "source": [
    "<p>"
   ]
  },
  {
   "cell_type": "markdown",
   "metadata": {},
   "source": [
    "<b>Plotting the graph about individual interest in the field of \"Web or Mobile Developement\" And \"Other Subject\"\n",
    "<p>On x-axis, we have “Web or Mobile Development” and “Other Subject”\n",
    "<p>On y-axis, we have Percentage"
   ]
  },
  {
   "cell_type": "code",
   "execution_count": 15,
   "metadata": {},
   "outputs": [
    {
     "data": {
      "image/png": "[encoded data removed]",
      "text/plain": [
       "<Figure size 432x288 with 1 Axes>"
      ]
     },
     "metadata": {
      "needs_background": "light"
     },
     "output_type": "display_data"
    }
   ],
   "source": [
    "frequencytable.plot.bar(color=['#0066FF','#CC0000'])\n",
    "plt.title('Participants Interested in Web or Mobile Development')\n",
    "plt.ylabel('Percentage',fontsize=15)\n",
    "plt.xticks([0,1],['Web or Mobile Development','Other Subject'],rotation=0)\n",
    "plt.ylim([0,100])\n",
    "plt.show()"
   ]
  },
  {
   "cell_type": "markdown",
   "metadata": {},
   "source": [
    "<p>The above graph indiactes, almost 85% of respondents want to choose Web or Mobile Development and other 15 % wants to opt for other Subjects"
   ]
  },
  {
   "cell_type": "markdown",
   "metadata": {},
   "source": [
    "<p>"
   ]
  },
  {
   "cell_type": "markdown",
   "metadata": {},
   "source": [
    "<b>Copying notnull data from surveydata to countrylive and calucating percentage of \n",
    "aspiring coders and absolute frequency according to Country"
   ]
  },
  {
   "cell_type": "code",
   "execution_count": 16,
   "metadata": {},
   "outputs": [
    {
     "data": {
      "text/html": [
       "<div>\n",
       "<style scoped>\n",
       "    .dataframe tbody tr th:only-of-type {\n",
       "        vertical-align: middle;\n",
       "    }\n",
       "\n",
       "    .dataframe tbody tr th {\n",
       "        vertical-align: top;\n",
       "    }\n",
       "\n",
       "    .dataframe thead th {\n",
       "        text-align: right;\n",
       "    }\n",
       "</style>\n",
       "<table border=\"1\" class=\"dataframe\">\n",
       "  <thead>\n",
       "    <tr style=\"text-align: right;\">\n",
       "      <th></th>\n",
       "      <th>Absolute Frequency</th>\n",
       "      <th>Percentage</th>\n",
       "    </tr>\n",
       "  </thead>\n",
       "  <tbody>\n",
       "    <tr>\n",
       "      <td>United States of America</td>\n",
       "      <td>2979</td>\n",
       "      <td>52.548950</td>\n",
       "    </tr>\n",
       "    <tr>\n",
       "      <td>India</td>\n",
       "      <td>382</td>\n",
       "      <td>6.738402</td>\n",
       "    </tr>\n",
       "    <tr>\n",
       "      <td>United Kingdom</td>\n",
       "      <td>242</td>\n",
       "      <td>4.268830</td>\n",
       "    </tr>\n",
       "    <tr>\n",
       "      <td>Canada</td>\n",
       "      <td>221</td>\n",
       "      <td>3.898395</td>\n",
       "    </tr>\n",
       "    <tr>\n",
       "      <td>Australia</td>\n",
       "      <td>122</td>\n",
       "      <td>2.152055</td>\n",
       "    </tr>\n",
       "    <tr>\n",
       "      <td>...</td>\n",
       "      <td>...</td>\n",
       "      <td>...</td>\n",
       "    </tr>\n",
       "    <tr>\n",
       "      <td>Mauritius</td>\n",
       "      <td>1</td>\n",
       "      <td>0.017640</td>\n",
       "    </tr>\n",
       "    <tr>\n",
       "      <td>Nicaragua</td>\n",
       "      <td>1</td>\n",
       "      <td>0.017640</td>\n",
       "    </tr>\n",
       "    <tr>\n",
       "      <td>Barbados</td>\n",
       "      <td>1</td>\n",
       "      <td>0.017640</td>\n",
       "    </tr>\n",
       "    <tr>\n",
       "      <td>Afghanistan</td>\n",
       "      <td>1</td>\n",
       "      <td>0.017640</td>\n",
       "    </tr>\n",
       "    <tr>\n",
       "      <td>Uganda</td>\n",
       "      <td>1</td>\n",
       "      <td>0.017640</td>\n",
       "    </tr>\n",
       "  </tbody>\n",
       "</table>\n",
       "<p>128 rows × 2 columns</p>\n",
       "</div>"
      ],
      "text/plain": [
       "                          Absolute Frequency  Percentage\n",
       "United States of America                2979   52.548950\n",
       "India                                    382    6.738402\n",
       "United Kingdom                           242    4.268830\n",
       "Canada                                   221    3.898395\n",
       "Australia                                122    2.152055\n",
       "...                                      ...         ...\n",
       "Mauritius                                  1    0.017640\n",
       "Nicaragua                                  1    0.017640\n",
       "Barbados                                   1    0.017640\n",
       "Afghanistan                                1    0.017640\n",
       "Uganda                                     1    0.017640\n",
       "\n",
       "[128 rows x 2 columns]"
      ]
     },
     "execution_count": 16,
     "metadata": {},
     "output_type": "execute_result"
    }
   ],
   "source": [
    "# notnull() function detects existing/ non-missing values in the dataframe. The function returns a boolean object\n",
    "# copy() function copies data \n",
    "countrylive=surveydata[surveydata['JobRoleInterest'].notnull()].copy()\n",
    "# For counting the number of resondents according to their countries\n",
    "abscountrylivefrequency=countrylive['CountryLive'].value_counts()\n",
    "# For calculating the percentage of Respondents according to their countries\n",
    "relcountrylivefrequency=countrylive['CountryLive'].value_counts(normalize=True)*100\n",
    "# For Displayiong in the form of Columns and Rows\n",
    "pd.DataFrame(data={'Absolute Frequency':abscountrylivefrequency,'Percentage':relcountrylivefrequency})"
   ]
  },
  {
   "cell_type": "markdown",
   "metadata": {},
   "source": [
    "<p>"
   ]
  },
  {
   "cell_type": "markdown",
   "metadata": {},
   "source": [
    "<b>\n",
    "Replacing Months of Programming From 0 to 1 , and calculating the money spent by the aspiring coders per month to learn coding \n",
    "Number of Null Values in dataframe countrylive"
   ]
  },
  {
   "cell_type": "code",
   "execution_count": 17,
   "metadata": {},
   "outputs": [
    {
     "data": {
      "text/plain": [
       "465"
      ]
     },
     "execution_count": 17,
     "metadata": {},
     "output_type": "execute_result"
    }
   ],
   "source": [
    "# If months of programming is zero then replace with 1\n",
    "countrylive['MonthsProgramming'].replace(0,1,inplace=True)\n",
    "#For calculating money spent per month by respondent to learn \n",
    "countrylive['money_per_month']=countrylive['MoneyForLearning']/countrylive['MonthsProgramming']\n",
    "#To count missing Values\n",
    "countrylive['money_per_month'].isnull().sum()"
   ]
  },
  {
   "cell_type": "markdown",
   "metadata": {},
   "source": [
    "<p>"
   ]
  },
  {
   "cell_type": "markdown",
   "metadata": {},
   "source": [
    "<b>Number of coders in countries and nations with highest number of coders"
   ]
  },
  {
   "cell_type": "code",
   "execution_count": 18,
   "metadata": {},
   "outputs": [
    {
     "data": {
      "text/plain": [
       "United States of America    2853\n",
       "India                        331\n",
       "United Kingdom               224\n",
       "Canada                       213\n",
       "Australia                    116\n",
       "Name: CountryLive, dtype: int64"
      ]
     },
     "execution_count": 18,
     "metadata": {},
     "output_type": "execute_result"
    }
   ],
   "source": [
    "#Removing Null Values from dataframe\n",
    "countrylive=countrylive[countrylive['money_per_month'].notnull()]\n",
    "countrylive=countrylive[countrylive['CountryLive'].notnull()]\n",
    "#The value_counts() function is used to get a Series containing counts of unique values.\n",
    "countrylive['CountryLive'].value_counts().head()"
   ]
  },
  {
   "cell_type": "markdown",
   "metadata": {},
   "source": [
    "<p>"
   ]
  },
  {
   "cell_type": "markdown",
   "metadata": {},
   "source": [
    "<b>We will analyze the data of top four nation and caluclate the amount spent by coders inrespective of their nation"
   ]
  },
  {
   "cell_type": "code",
   "execution_count": 19,
   "metadata": {},
   "outputs": [
    {
     "data": {
      "text/plain": [
       "CountryLive\n",
       "United States of America    286.753739\n",
       "India                        51.980221\n",
       "United Kingdom              153.981568\n",
       "Canada                      173.189285\n",
       "Name: money_per_month, dtype: float64"
      ]
     },
     "execution_count": 19,
     "metadata": {},
     "output_type": "execute_result"
    }
   ],
   "source": [
    "#Average mean spent by the respondents per month according to their countries\n",
    "countrylivemean=countrylive.groupby('CountryLive').mean()\n",
    "countrylivemean['money_per_month'][['United States of America','India','United Kingdom','Canada']]"
   ]
  },
  {
   "cell_type": "markdown",
   "metadata": {},
   "source": [
    "<p>"
   ]
  },
  {
   "cell_type": "markdown",
   "metadata": {},
   "source": [
    "<b>New Dataframe top4 is created, which consist of Nations USA, UK, India and Canada\n",
    "Now plotting the graph of above data between Nation and Money spent by Coders\n",
    "per month, with the help of seaborn\n",
    "<p>On x-axis we have \"Money Spent Per Month\"</p>\n",
    "<p>On y-axis we have \"Countries\"</p>    "
   ]
  },
  {
   "cell_type": "code",
   "execution_count": 20,
   "metadata": {},
   "outputs": [
    {
     "data": {
      "image/png": "[encoded data removed]",
      "text/plain": [
       "<Figure size 720x360 with 1 Axes>"
      ]
     },
     "metadata": {
      "needs_background": "light"
     },
     "output_type": "display_data"
    }
   ],
   "source": [
    "import seaborn as sns # Seaborn is a library for making statistical graphics \n",
    "top4=countrylive[countrylive['CountryLive'].str.contains('United States of America|India|United Kingdom|Canada')]\n",
    "plt.figure(figsize=(10,5))\n",
    "sns.boxplot(y='money_per_month',x='CountryLive',data=top4)\n",
    "plt.title(\"Money Spent Per Month \\n by Country\")\n",
    "plt.xlabel(\"Country\")\n",
    "plt.ylabel(\"Money Spent Per Month\")\n",
    "plt.show()"
   ]
  },
  {
   "cell_type": "markdown",
   "metadata": {},
   "source": [
    "<p> The above graph indicates the money spent by the respondents with their respective countries"
   ]
  },
  {
   "cell_type": "markdown",
   "metadata": {},
   "source": [
    "<p>"
   ]
  },
  {
   "cell_type": "markdown",
   "metadata": {},
   "source": [
    "<b>Now , we have to deal with extreme outliers and caluclate the mean of Money Spent by Coders per month of top four nations"
   ]
  },
  {
   "cell_type": "code",
   "execution_count": 21,
   "metadata": {},
   "outputs": [
    {
     "data": {
      "text/plain": [
       "CountryLive\n",
       "United States of America    223.023026\n",
       "India                        51.980221\n",
       "United Kingdom              109.829019\n",
       "Canada                       79.666593\n",
       "Name: money_per_month, dtype: float64"
      ]
     },
     "execution_count": 21,
     "metadata": {},
     "output_type": "execute_result"
    }
   ],
   "source": [
    "countrylive=countrylive[countrylive['money_per_month']<10000]\n",
    "#Calculating the mean of money spent by resondent per month tio learn\n",
    "countrylivemean=countrylive.groupby('CountryLive').mean()\n",
    "countrylivemean['money_per_month'][['United States of America','India','United Kingdom','Canada']]"
   ]
  },
  {
   "cell_type": "markdown",
   "metadata": {},
   "source": [
    "<p>"
   ]
  },
  {
   "cell_type": "markdown",
   "metadata": {},
   "source": [
    "<b>Now, we will replot the data "
   ]
  },
  {
   "cell_type": "code",
   "execution_count": 22,
   "metadata": {
    "scrolled": true
   },
   "outputs": [
    {
     "data": {
      "image/png": "[encoded data removed]",
      "text/plain": [
       "<Figure size 720x360 with 1 Axes>"
      ]
     },
     "metadata": {
      "needs_background": "light"
     },
     "output_type": "display_data"
    }
   ],
   "source": [
    "top4=countrylive[countrylive['CountryLive'].str.contains('United States of America|India|United Kingdom|Canada')]\n",
    "plt.figure(figsize=(10,5))\n",
    "sns.boxplot(y='money_per_month',x='CountryLive',data=top4)\n",
    "plt.xlabel(\"Country\")\n",
    "plt.ylabel(\"Money Spent Per Month\")\n",
    "plt.show()"
   ]
  },
  {
   "cell_type": "markdown",
   "metadata": {},
   "source": [
    "<p> The above graph indicates money spent by the respondents with their respective countries after removing extreme outliers."
   ]
  },
  {
   "cell_type": "markdown",
   "metadata": {},
   "source": [
    "<p>"
   ]
  },
  {
   "cell_type": "markdown",
   "metadata": {},
   "source": [
    "<b>Still,We can see the extreme outliers in specific countries.Now, we have to deal with \n",
    "extreme outliers inrespective of countries</b> "
   ]
  },
  {
   "cell_type": "code",
   "execution_count": 23,
   "metadata": {},
   "outputs": [],
   "source": [
    "#we are droppint the data of resondents with most amount of spent by them to learn respective of their countries\n",
    "#drop() is used for removing rows\n",
    "indianontarget=top4[(top4['CountryLive']==\"India\")&(top4['money_per_month']>=2500)]\n",
    "top4=top4.drop(indianontarget.index)\n",
    "usnontarget=top4[(top4['money_per_month']>6000)&(top4['CountryLive']==\"United States Of America\")]\n",
    "top4=top4.drop(usnontarget.index)\n",
    "canadanontarget=top4[(top4['money_per_month']>4000)&(top4['CountryLive']==\"Canada\")]\n",
    "top4=top4.drop(canadanontarget.index)"
   ]
  },
  {
   "cell_type": "markdown",
   "metadata": {},
   "source": [
    "<p>"
   ]
  },
  {
   "cell_type": "markdown",
   "metadata": {},
   "source": [
    "<b>We are on our way to proper organised data.\n",
    "<p>We will remove the coders , coding for less than 3 months \n",
    "and to drop the data of coders who have attended Boot Camp and we will recalculate the mean</p>"
   ]
  },
  {
   "cell_type": "code",
   "execution_count": 24,
   "metadata": {},
   "outputs": [
    {
     "data": {
      "text/plain": [
       "CountryLive\n",
       "Canada                      33.125706\n",
       "India                       24.051828\n",
       "United Kingdom              38.925026\n",
       "United States of America    91.753640\n",
       "Name: money_per_month, dtype: float64"
      ]
     },
     "execution_count": 24,
     "metadata": {},
     "output_type": "execute_result"
    }
   ],
   "source": [
    "attended_bootcamp = top4[top4['AttendedBootcamp'] == 1]\n",
    "top4 = top4.drop(attended_bootcamp.index)\n",
    "less_than_3_months = top4[(top4['MonthsProgramming']<3)]\n",
    "top4 = top4.drop(less_than_3_months.index)\n",
    "top4.groupby('CountryLive').mean()['money_per_month']"
   ]
  },
  {
   "cell_type": "markdown",
   "metadata": {},
   "source": [
    "<p>"
   ]
  },
  {
   "cell_type": "markdown",
   "metadata": {},
   "source": [
    "<b>Now we will replot the data ,that have been filtered"
   ]
  },
  {
   "cell_type": "markdown",
   "metadata": {},
   "source": [
    "<p>"
   ]
  },
  {
   "cell_type": "code",
   "execution_count": 25,
   "metadata": {},
   "outputs": [
    {
     "data": {
      "image/png": "[encoded data removed]",
      "text/plain": [
       "<Figure size 720x360 with 1 Axes>"
      ]
     },
     "metadata": {
      "needs_background": "light"
     },
     "output_type": "display_data"
    }
   ],
   "source": [
    "plt.figure(figsize=(10,5))\n",
    "sns.boxplot(x='CountryLive',y='money_per_month',data=top4)\n",
    "plt.title(\"Money Spent per Month,\\n by Country\")\n",
    "plt.ylabel('Money per month')\n",
    "plt.xlabel('Country')\n",
    "plt.xticks(range(4),['US','UK','India','Canada'])\n",
    "plt.show()"
   ]
  },
  {
   "cell_type": "markdown",
   "metadata": {},
   "source": [
    "<p>In above graph , we have plotted the clean data and target customer base . It clearly indicates that most of the customer base are in \"USA\" and \"India\""
   ]
  },
  {
   "cell_type": "markdown",
   "metadata": {},
   "source": [
    "<p>"
   ]
  },
  {
   "cell_type": "markdown",
   "metadata": {},
   "source": [
    "<b>Number of Coders according to their countries</b>"
   ]
  },
  {
   "cell_type": "code",
   "execution_count": 26,
   "metadata": {},
   "outputs": [
    {
     "data": {
      "text/plain": [
       "United States of America    1992\n",
       "India                        266\n",
       "United Kingdom               176\n",
       "Canada                       155\n",
       "Name: CountryLive, dtype: int64"
      ]
     },
     "execution_count": 26,
     "metadata": {},
     "output_type": "execute_result"
    }
   ],
   "source": [
    "top4['CountryLive'].value_counts() #Calculating the number of respondents in Countries"
   ]
  },
  {
   "cell_type": "markdown",
   "metadata": {},
   "source": [
    "<p>"
   ]
  },
  {
   "cell_type": "markdown",
   "metadata": {},
   "source": [
    "<b>Now, we will calculate the percentage of coders according to their countries and we will establish the result to find the best market to advertise in"
   ]
  },
  {
   "cell_type": "code",
   "execution_count": 27,
   "metadata": {},
   "outputs": [
    {
     "data": {
      "text/plain": [
       "United States of America    76.940904\n",
       "India                       10.274237\n",
       "United Kingdom               6.797992\n",
       "Canada                       5.986868\n",
       "Name: CountryLive, dtype: float64"
      ]
     },
     "execution_count": 27,
     "metadata": {},
     "output_type": "execute_result"
    }
   ],
   "source": [
    "top4['CountryLive'].value_counts(normalize=True)*100 #Percentage of Respondents in Countries"
   ]
  },
  {
   "cell_type": "markdown",
   "metadata": {},
   "source": [
    "<b><p>Graphical Representation of Data frame \"top4\"\n",
    "<p><p>On x-axis, we have \"Country\"\n",
    "<p>On y-axis, we have \"Percentage\""
   ]
  },
  {
   "cell_type": "code",
   "execution_count": 28,
   "metadata": {},
   "outputs": [
    {
     "data": {
      "image/png": "[encoded data removed]",
      "text/plain": [
       "<Figure size 432x288 with 1 Axes>"
      ]
     },
     "metadata": {
      "needs_background": "light"
     },
     "output_type": "display_data"
    }
   ],
   "source": [
    "graphtop4=top4['CountryLive'].value_counts(normalize=True)*100\n",
    "graphtop4.plot.bar(color=['#0066FF','#CC0000','#00ff00','#FFFF00'])\n",
    "plt.title('Percentage of Coders in country')\n",
    "plt.ylabel('Percentage',fontsize=15)\n",
    "plt.xlabel('Country',fontsize=15)\n",
    "plt.xticks([0,1,2,3],['USA','India','UK','Canada'],rotation=0)\n",
    "plt.ylim([0,100])\n",
    "plt.show()"
   ]
  },
  {
   "cell_type": "markdown",
   "metadata": {},
   "source": [
    "<p>The above graph indiactes that \"USA\" and \"India\" has highest number of target customer base ."
   ]
  },
  {
   "cell_type": "markdown",
   "metadata": {},
   "source": [
    "<p>"
   ]
  },
  {
   "cell_type": "markdown",
   "metadata": {},
   "source": [
    "<h3><b><p>Now, we can easily interpret that \"USA\" and \"India\" are biggest to markets for the e-learning company to advertise.\n",
    "    It will be easier for our developing team to have idea about gender and age distribution of these countries."
   ]
  },
  {
   "cell_type": "code",
   "execution_count": 29,
   "metadata": {},
   "outputs": [],
   "source": [
    "usa=top4[(top4['CountryLive']==\"United States of America\")]\n",
    "india=top4[(top4['CountryLive']==\"India\")]"
   ]
  },
  {
   "cell_type": "markdown",
   "metadata": {},
   "source": [
    "<p>"
   ]
  },
  {
   "cell_type": "markdown",
   "metadata": {},
   "source": [
    "<h1><u>Age Distribution</u>"
   ]
  },
  {
   "cell_type": "markdown",
   "metadata": {},
   "source": [
    "<p><b><h3>We are visualizing number of coders according to their age\n",
    "<p><p>On x-axis, we have \"Coders\"\n",
    "<p>On y-axis, we have \"Age\"    "
   ]
  },
  {
   "cell_type": "code",
   "execution_count": 30,
   "metadata": {},
   "outputs": [
    {
     "data": {
      "text/plain": [
       "Text(0.5, 1.0, 'Distribution of Age in India')"
      ]
     },
     "execution_count": 30,
     "metadata": {},
     "output_type": "execute_result"
    },
    {
     "data": {
      "image/png": "[encoded data removed]",
      "text/plain": [
       "<Figure size 1440x1080 with 2 Axes>"
      ]
     },
     "metadata": {
      "needs_background": "light"
     },
     "output_type": "display_data"
    }
   ],
   "source": [
    "plt.figure(figsize=(20,15))\n",
    "\n",
    "plt.subplot(2,2,1)\n",
    "usa.Age.hist(bins=75)\n",
    "plt.xlabel(\"Age\")\n",
    "plt.ylabel(\"Coders\")\n",
    "plt.title(\"Distribution of Age in USA\")\n",
    "\n",
    "plt.subplot(2,2,2)\n",
    "india.Age.hist(bins=75,color='#CC0000')\n",
    "plt.xlabel(\"Age\")\n",
    "plt.ylabel(\"Coders\")\n",
    "plt.title(\"Distribution of Age in India\")\n",
    "\n"
   ]
  },
  {
   "cell_type": "markdown",
   "metadata": {},
   "source": [
    "<p> The above figure indicates that most of the customer base are of age between 25 and 30 years in USA whereas in India Customer base lies between 20 and 25  "
   ]
  },
  {
   "cell_type": "markdown",
   "metadata": {},
   "source": [
    "<p>"
   ]
  },
  {
   "cell_type": "markdown",
   "metadata": {},
   "source": [
    "<h1><u>Gender Distribution</u>"
   ]
  },
  {
   "cell_type": "markdown",
   "metadata": {},
   "source": [
    "<b><h3>We are visualizing number of coders according to their age"
   ]
  },
  {
   "cell_type": "code",
   "execution_count": 84,
   "metadata": {},
   "outputs": [
    {
     "data": {
      "text/plain": [
       "([<matplotlib.patches.Wedge at 0x1ead0600e88>,\n",
       "  <matplotlib.patches.Wedge at 0x1ead05f1908>],\n",
       " [Text(-1.2000000000000002, 1.469576158976824e-16, 'Male'),\n",
       "  Text(1.2000000000000002, -2.939152317953648e-16, 'Female')],\n",
       " [Text(-0.7, 8.572527594031472e-17, '50.0%'),\n",
       "  Text(0.7, -1.7145055188062944e-16, '50.0%')])"
      ]
     },
     "execution_count": 84,
     "metadata": {},
     "output_type": "execute_result"
    },
    {
     "data": {
      "image/png": "[encoded data removed]",
      "text/plain": [
       "<Figure size 1440x1080 with 2 Axes>"
      ]
     },
     "metadata": {},
     "output_type": "display_data"
    }
   ],
   "source": [
    "plt.figure(figsize=(20,15))\n",
    "plt.subplot(2,2,1)\n",
    "\n",
    "indiamale=india[(india['Gender']==\"male\")]\n",
    "rowmale=indiamale.shape[0]\n",
    "indiafemale=india[(india['Gender']==\"female\")]\n",
    "rowfemale=indiafemale.shape[0]\n",
    "Gender=[rowmale,rowfemale]\n",
    "GenderCount=['Male','Female']\n",
    "explode=[0.1,0.1]\n",
    "plt.title(\"Gender Distribution in India\")\n",
    "plt.pie(Gender,labels=GenderCount,autopct='%.1f%%',startangle=90,wedgeprops={'edgecolor':'black'},explode=explode,\n",
    "        shadow=True)\n",
    "\n",
    "plt.subplot(2,2,2)\n",
    "usamale=usa[(usa['Gender'])==\"male\"]\n",
    "rowmale1=usamale.shape[0]\n",
    "usafemale=usa[(usa['Gender'])==\"male\"]\n",
    "rowfemale1=usafemale.shape[0]\n",
    "Gender=[rowmale1,rowfemale1]\n",
    "GenderCount=['Male','Female']\n",
    "explode=[0.1,0.1]\n",
    "plt.title(\"Gender Distribution in USA\")\n",
    "plt.pie(Gender,labels=GenderCount,autopct='%.1f%%',startangle=90,wedgeprops={'edgecolor':'black'},explode=explode,\n",
    "        shadow=True)"
   ]
  },
  {
   "cell_type": "markdown",
   "metadata": {},
   "source": [
    "<p>In above figure, we have to pie charts representing the gender distribution of coders in countries \"India\" and \"USA\"\n",
    "<p>The above figure indicates , in \"India\" almost 90% of  target customer's are male . In \"USA\" are male and female  are in equal propotion     "
   ]
  },
  {
   "cell_type": "markdown",
   "metadata": {},
   "source": [
    "<p>"
   ]
  },
  {
   "cell_type": "markdown",
   "metadata": {},
   "source": [
    "<h1><u>Result:</u>"
   ]
  },
  {
   "cell_type": "markdown",
   "metadata": {},
   "source": [
    "<b><p><h3>\n",
    "The organisation should focus on developing content for the population of India and USA.The content developing team needs to develop content in English.The cost of the course should be affordable to reach through its consumer base. In India, we can clearly see that there is a lack of young coders and organisation should encourage youngsters to join the field.The team should also focus on encouraging girls to join the field in India.</p>\n",
    "<p>    \n",
    "<p>The content of the course should be more about Mobile and Web Development as 86 percent of Respondent wants are interested in these fields.   "
   ]
  },
  {
   "cell_type": "code",
   "execution_count": null,
   "metadata": {},
   "outputs": [],
   "source": []
  },
  {
   "cell_type": "code",
   "execution_count": null,
   "metadata": {},
   "outputs": [],
   "source": []
  }
 ],
 "metadata": {
  "kernelspec": {
   "display_name": "Python 3",
   "language": "python",
   "name": "python3"
  },
  "language_info": {
   "codemirror_mode": {
    "name": "ipython",
    "version": 3
   },
   "file_extension": ".py",
   "mimetype": "text/x-python",
   "name": "python",
   "nbconvert_exporter": "python",
   "pygments_lexer": "ipython3",
   "version": "3.8.5"
  }
 },
 "nbformat": 4,
 "nbformat_minor": 2
}
